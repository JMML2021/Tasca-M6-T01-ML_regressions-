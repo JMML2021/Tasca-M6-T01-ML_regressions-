{
  "nbformat": 4,
  "nbformat_minor": 0,
  "metadata": {
    "colab": {
      "name": "Sprint 6. Algoritmes d’aprenentatge supervisat: Regressió.ipynb",
      "provenance": [],
      "authorship_tag": "ABX9TyPVhu9eTNfdTOhXXLVeWM/G",
      "include_colab_link": true
    },
    "kernelspec": {
      "name": "python3",
      "display_name": "Python 3"
    },
    "language_info": {
      "name": "python"
    }
  },
  "cells": [
    {
      "cell_type": "markdown",
      "metadata": {
        "id": "view-in-github",
        "colab_type": "text"
      },
      "source": [
        "<a href=\"https://colab.research.google.com/github/JMML2021/Tasca-M6-T01-ML_regressions-/blob/main/Sprint_6_Algoritmes_d%E2%80%99aprenentatge_supervisat_Regressi%C3%B3.ipynb\" target=\"_parent\"><img src=\"https://colab.research.google.com/assets/colab-badge.svg\" alt=\"Open In Colab\"/></a>"
      ]
    },
    {
      "cell_type": "code",
      "execution_count": 74,
      "metadata": {
        "id": "EzrT_EOqi_ru"
      },
      "outputs": [],
      "source": [
        "import numpy as np\n",
        "import matplotlib.pyplot as plt \n",
        "\n",
        "import pandas as pd  \n",
        "import seaborn as sns \n",
        "\n",
        "%matplotlib inline"
      ]
    },
    {
      "cell_type": "code",
      "source": [
        "from sklearn.datasets import load_boston\n",
        "boston_dataset = load_boston()"
      ],
      "metadata": {
        "colab": {
          "base_uri": "https://localhost:8080/"
        },
        "id": "PMs9-I9djkVa",
        "outputId": "4fb30a6b-09c3-4407-a4c2-2ce9d4f12f90"
      },
      "execution_count": 75,
      "outputs": [
        {
          "output_type": "stream",
          "name": "stderr",
          "text": [
            "/usr/local/lib/python3.7/dist-packages/sklearn/utils/deprecation.py:87: FutureWarning: Function load_boston is deprecated; `load_boston` is deprecated in 1.0 and will be removed in 1.2.\n",
            "\n",
            "    The Boston housing prices dataset has an ethical problem. You can refer to\n",
            "    the documentation of this function for further details.\n",
            "\n",
            "    The scikit-learn maintainers therefore strongly discourage the use of this\n",
            "    dataset unless the purpose of the code is to study and educate about\n",
            "    ethical issues in data science and machine learning.\n",
            "\n",
            "    In this special case, you can fetch the dataset from the original\n",
            "    source::\n",
            "\n",
            "        import pandas as pd\n",
            "        import numpy as np\n",
            "\n",
            "\n",
            "        data_url = \"http://lib.stat.cmu.edu/datasets/boston\"\n",
            "        raw_df = pd.read_csv(data_url, sep=\"\\s+\", skiprows=22, header=None)\n",
            "        data = np.hstack([raw_df.values[::2, :], raw_df.values[1::2, :2]])\n",
            "        target = raw_df.values[1::2, 2]\n",
            "\n",
            "    Alternative datasets include the California housing dataset (i.e.\n",
            "    :func:`~sklearn.datasets.fetch_california_housing`) and the Ames housing\n",
            "    dataset. You can load the datasets as follows::\n",
            "\n",
            "        from sklearn.datasets import fetch_california_housing\n",
            "        housing = fetch_california_housing()\n",
            "\n",
            "    for the California housing dataset and::\n",
            "\n",
            "        from sklearn.datasets import fetch_openml\n",
            "        housing = fetch_openml(name=\"house_prices\", as_frame=True)\n",
            "\n",
            "    for the Ames housing dataset.\n",
            "    \n",
            "  warnings.warn(msg, category=FutureWarning)\n"
          ]
        }
      ]
    },
    {
      "cell_type": "code",
      "source": [
        "# Activo Google Drive\n",
        "\n",
        "from google.colab import drive\n",
        "drive.mount('/content/drive')"
      ],
      "metadata": {
        "colab": {
          "base_uri": "https://localhost:8080/"
        },
        "id": "f84MRzMGjslY",
        "outputId": "321beb5c-3710-4ad2-bae7-ef750bcee998"
      },
      "execution_count": 86,
      "outputs": [
        {
          "output_type": "stream",
          "name": "stdout",
          "text": [
            "Drive already mounted at /content/drive; to attempt to forcibly remount, call drive.mount(\"/content/drive\", force_remount=True).\n"
          ]
        }
      ]
    },
    {
      "cell_type": "code",
      "source": [
        "# Abro el fichero\n",
        "\n",
        "#path='https://drive.google.com/file/d/1j8WdhTxMpngrUigfcfrJynng-9JHo9xa/view?usp=sharing'\n",
        "path = ('/content/drive/MyDrive/01_COLAB/housing data.csv')\n",
        "#data = pd.read_csv(file,\n",
        "    \n",
        "df=  pd.read_csv(path, sep=',', encoding=\"latin-1\")\n",
        "df.shape\n",
        "\n",
        "nRow, nCol = df.shape\n",
        "print(f'Hay  {nRow} filas con {nCol} columnas')\n",
        "df1=df.copy()\n",
        "print('\\nImprimo el primer registro, solo para ver como es:\\n')\n",
        "df1.iloc[0]\n",
        "#df1.dtypes"
      ],
      "metadata": {
        "colab": {
          "base_uri": "https://localhost:8080/"
        },
        "id": "QULoGQXenqdI",
        "outputId": "2df0ac5f-cdf7-48b5-e4f1-eb9afdbfd4dd"
      },
      "execution_count": 87,
      "outputs": [
        {
          "output_type": "stream",
          "name": "stdout",
          "text": [
            "Hay  505 filas con 14 columnas\n",
            "\n",
            "Imprimo el primer registro, solo para ver como es:\n",
            "\n"
          ]
        },
        {
          "output_type": "execute_result",
          "data": {
            "text/plain": [
              "0.00632      0.02731\n",
              "18.00        0.00000\n",
              "2.310        7.07000\n",
              "0            0.00000\n",
              "0.5380       0.46900\n",
              "6.5750       6.42100\n",
              "65.20       78.90000\n",
              "4.0900       4.96710\n",
              "1            2.00000\n",
              "296.0      242.00000\n",
              "15.30       17.80000\n",
              "396.90     396.90000\n",
              "4.98         9.14000\n",
              "24.00       21.60000\n",
              "Name: 0, dtype: float64"
            ]
          },
          "metadata": {},
          "execution_count": 87
        }
      ]
    },
    {
      "cell_type": "code",
      "source": [
        "# Asigno una lista con los nombres de las columnas\n",
        "Nombre_Columnas = ['CRIM', 'ZN', 'INDUS', 'CHAS', 'NOX', 'RM', 'AGE', 'DIS', 'RAD', 'TAX', 'PTRATIO', 'B', 'LSTAT', 'MEDV']\n",
        "\n",
        "df1.columns = [Nombre_Columnas]\n",
        "df1.iloc[0]\n",
        "\n"
      ],
      "metadata": {
        "colab": {
          "base_uri": "https://localhost:8080/"
        },
        "id": "oqAX6aYooBqn",
        "outputId": "552e93e5-acba-4ab2-fc10-40a7f354bd48"
      },
      "execution_count": 90,
      "outputs": [
        {
          "output_type": "execute_result",
          "data": {
            "text/plain": [
              "CRIM         0.02731\n",
              "ZN           0.00000\n",
              "INDUS        7.07000\n",
              "CHAS         0.00000\n",
              "NOX          0.46900\n",
              "RM           6.42100\n",
              "AGE         78.90000\n",
              "DIS          4.96710\n",
              "RAD          2.00000\n",
              "TAX        242.00000\n",
              "PTRATIO     17.80000\n",
              "B          396.90000\n",
              "LSTAT        9.14000\n",
              "MEDV        21.60000\n",
              "Name: 0, dtype: float64"
            ]
          },
          "metadata": {},
          "execution_count": 90
        }
      ]
    },
    {
      "cell_type": "markdown",
      "source": [
        "To know more about the features use boston_dataset.**DESCR The description of all the features is given below:**\n",
        "\n",
        "CRIM: Per capita crime rate by town\n",
        "\n",
        "ZN: Proportion of residential land zoned for lots over 25,000 sq. ft\n",
        "\n",
        "INDUS: Proportion of non-retail business acres per town\n",
        "\n",
        "CHAS: Charles River dummy variable (= 1 if tract bounds river; 0 otherwise)\n",
        "\n",
        "NOX: Nitric oxide concentration (parts per 10 million)\n",
        "\n",
        "RM: Average number of rooms per dwelling\n",
        "\n",
        "AGE: Proportion of owner-occupied units built prior to 1940\n",
        "\n",
        "DIS: Weighted distances to five Boston employment centers\n",
        "\n",
        "RAD: Index of accessibility to radial highways\n",
        "\n",
        "TAX: Full-value property tax rate per $10,000\n",
        "\n",
        "PTRATIO: Pupil-teacher ratio by town\n",
        "\n",
        "B: 1000(Bk — 0.63)², where Bk is the proportion of [people of African American descent] by town\n",
        "\n",
        "LSTAT: Percentage of lower status of the population\n",
        "\n",
        "MEDV: Median value of owner-occupied homes in $1000s"
      ],
      "metadata": {
        "id": "HzW62nM3oaMH"
      }
    },
    {
      "cell_type": "code",
      "source": [
        "boston = pd.DataFrame(boston_dataset.data, columns=boston_dataset.feature_names)\n",
        "boston.head()"
      ],
      "metadata": {
        "id": "V1q61SJDod7W"
      },
      "execution_count": null,
      "outputs": []
    },
    {
      "cell_type": "code",
      "source": [
        "df1.head()"
      ],
      "metadata": {
        "id": "VOSYWugeou45"
      },
      "execution_count": null,
      "outputs": []
    },
    {
      "cell_type": "code",
      "source": [
        "boston.head()"
      ],
      "metadata": {
        "id": "tyI-tBhlzK4z",
        "outputId": "e3823a8b-0eb4-439c-e027-d3fe9bb10bfa",
        "colab": {
          "base_uri": "https://localhost:8080/",
          "height": 206
        }
      },
      "execution_count": 94,
      "outputs": [
        {
          "output_type": "execute_result",
          "data": {
            "text/plain": [
              "      CRIM    ZN  INDUS  CHAS    NOX     RM   AGE     DIS  RAD    TAX  \\\n",
              "0  0.00632  18.0   2.31   0.0  0.538  6.575  65.2  4.0900  1.0  296.0   \n",
              "1  0.02731   0.0   7.07   0.0  0.469  6.421  78.9  4.9671  2.0  242.0   \n",
              "2  0.02729   0.0   7.07   0.0  0.469  7.185  61.1  4.9671  2.0  242.0   \n",
              "3  0.03237   0.0   2.18   0.0  0.458  6.998  45.8  6.0622  3.0  222.0   \n",
              "4  0.06905   0.0   2.18   0.0  0.458  7.147  54.2  6.0622  3.0  222.0   \n",
              "\n",
              "   PTRATIO       B  LSTAT  \n",
              "0     15.3  396.90   4.98  \n",
              "1     17.8  396.90   9.14  \n",
              "2     17.8  392.83   4.03  \n",
              "3     18.7  394.63   2.94  \n",
              "4     18.7  396.90   5.33  "
            ],
            "text/html": [
              "\n",
              "  <div id=\"df-45bf86ee-3764-4e6d-88e8-414719877ad0\">\n",
              "    <div class=\"colab-df-container\">\n",
              "      <div>\n",
              "<style scoped>\n",
              "    .dataframe tbody tr th:only-of-type {\n",
              "        vertical-align: middle;\n",
              "    }\n",
              "\n",
              "    .dataframe tbody tr th {\n",
              "        vertical-align: top;\n",
              "    }\n",
              "\n",
              "    .dataframe thead th {\n",
              "        text-align: right;\n",
              "    }\n",
              "</style>\n",
              "<table border=\"1\" class=\"dataframe\">\n",
              "  <thead>\n",
              "    <tr style=\"text-align: right;\">\n",
              "      <th></th>\n",
              "      <th>CRIM</th>\n",
              "      <th>ZN</th>\n",
              "      <th>INDUS</th>\n",
              "      <th>CHAS</th>\n",
              "      <th>NOX</th>\n",
              "      <th>RM</th>\n",
              "      <th>AGE</th>\n",
              "      <th>DIS</th>\n",
              "      <th>RAD</th>\n",
              "      <th>TAX</th>\n",
              "      <th>PTRATIO</th>\n",
              "      <th>B</th>\n",
              "      <th>LSTAT</th>\n",
              "    </tr>\n",
              "  </thead>\n",
              "  <tbody>\n",
              "    <tr>\n",
              "      <th>0</th>\n",
              "      <td>0.00632</td>\n",
              "      <td>18.0</td>\n",
              "      <td>2.31</td>\n",
              "      <td>0.0</td>\n",
              "      <td>0.538</td>\n",
              "      <td>6.575</td>\n",
              "      <td>65.2</td>\n",
              "      <td>4.0900</td>\n",
              "      <td>1.0</td>\n",
              "      <td>296.0</td>\n",
              "      <td>15.3</td>\n",
              "      <td>396.90</td>\n",
              "      <td>4.98</td>\n",
              "    </tr>\n",
              "    <tr>\n",
              "      <th>1</th>\n",
              "      <td>0.02731</td>\n",
              "      <td>0.0</td>\n",
              "      <td>7.07</td>\n",
              "      <td>0.0</td>\n",
              "      <td>0.469</td>\n",
              "      <td>6.421</td>\n",
              "      <td>78.9</td>\n",
              "      <td>4.9671</td>\n",
              "      <td>2.0</td>\n",
              "      <td>242.0</td>\n",
              "      <td>17.8</td>\n",
              "      <td>396.90</td>\n",
              "      <td>9.14</td>\n",
              "    </tr>\n",
              "    <tr>\n",
              "      <th>2</th>\n",
              "      <td>0.02729</td>\n",
              "      <td>0.0</td>\n",
              "      <td>7.07</td>\n",
              "      <td>0.0</td>\n",
              "      <td>0.469</td>\n",
              "      <td>7.185</td>\n",
              "      <td>61.1</td>\n",
              "      <td>4.9671</td>\n",
              "      <td>2.0</td>\n",
              "      <td>242.0</td>\n",
              "      <td>17.8</td>\n",
              "      <td>392.83</td>\n",
              "      <td>4.03</td>\n",
              "    </tr>\n",
              "    <tr>\n",
              "      <th>3</th>\n",
              "      <td>0.03237</td>\n",
              "      <td>0.0</td>\n",
              "      <td>2.18</td>\n",
              "      <td>0.0</td>\n",
              "      <td>0.458</td>\n",
              "      <td>6.998</td>\n",
              "      <td>45.8</td>\n",
              "      <td>6.0622</td>\n",
              "      <td>3.0</td>\n",
              "      <td>222.0</td>\n",
              "      <td>18.7</td>\n",
              "      <td>394.63</td>\n",
              "      <td>2.94</td>\n",
              "    </tr>\n",
              "    <tr>\n",
              "      <th>4</th>\n",
              "      <td>0.06905</td>\n",
              "      <td>0.0</td>\n",
              "      <td>2.18</td>\n",
              "      <td>0.0</td>\n",
              "      <td>0.458</td>\n",
              "      <td>7.147</td>\n",
              "      <td>54.2</td>\n",
              "      <td>6.0622</td>\n",
              "      <td>3.0</td>\n",
              "      <td>222.0</td>\n",
              "      <td>18.7</td>\n",
              "      <td>396.90</td>\n",
              "      <td>5.33</td>\n",
              "    </tr>\n",
              "  </tbody>\n",
              "</table>\n",
              "</div>\n",
              "      <button class=\"colab-df-convert\" onclick=\"convertToInteractive('df-45bf86ee-3764-4e6d-88e8-414719877ad0')\"\n",
              "              title=\"Convert this dataframe to an interactive table.\"\n",
              "              style=\"display:none;\">\n",
              "        \n",
              "  <svg xmlns=\"http://www.w3.org/2000/svg\" height=\"24px\"viewBox=\"0 0 24 24\"\n",
              "       width=\"24px\">\n",
              "    <path d=\"M0 0h24v24H0V0z\" fill=\"none\"/>\n",
              "    <path d=\"M18.56 5.44l.94 2.06.94-2.06 2.06-.94-2.06-.94-.94-2.06-.94 2.06-2.06.94zm-11 1L8.5 8.5l.94-2.06 2.06-.94-2.06-.94L8.5 2.5l-.94 2.06-2.06.94zm10 10l.94 2.06.94-2.06 2.06-.94-2.06-.94-.94-2.06-.94 2.06-2.06.94z\"/><path d=\"M17.41 7.96l-1.37-1.37c-.4-.4-.92-.59-1.43-.59-.52 0-1.04.2-1.43.59L10.3 9.45l-7.72 7.72c-.78.78-.78 2.05 0 2.83L4 21.41c.39.39.9.59 1.41.59.51 0 1.02-.2 1.41-.59l7.78-7.78 2.81-2.81c.8-.78.8-2.07 0-2.86zM5.41 20L4 18.59l7.72-7.72 1.47 1.35L5.41 20z\"/>\n",
              "  </svg>\n",
              "      </button>\n",
              "      \n",
              "  <style>\n",
              "    .colab-df-container {\n",
              "      display:flex;\n",
              "      flex-wrap:wrap;\n",
              "      gap: 12px;\n",
              "    }\n",
              "\n",
              "    .colab-df-convert {\n",
              "      background-color: #E8F0FE;\n",
              "      border: none;\n",
              "      border-radius: 50%;\n",
              "      cursor: pointer;\n",
              "      display: none;\n",
              "      fill: #1967D2;\n",
              "      height: 32px;\n",
              "      padding: 0 0 0 0;\n",
              "      width: 32px;\n",
              "    }\n",
              "\n",
              "    .colab-df-convert:hover {\n",
              "      background-color: #E2EBFA;\n",
              "      box-shadow: 0px 1px 2px rgba(60, 64, 67, 0.3), 0px 1px 3px 1px rgba(60, 64, 67, 0.15);\n",
              "      fill: #174EA6;\n",
              "    }\n",
              "\n",
              "    [theme=dark] .colab-df-convert {\n",
              "      background-color: #3B4455;\n",
              "      fill: #D2E3FC;\n",
              "    }\n",
              "\n",
              "    [theme=dark] .colab-df-convert:hover {\n",
              "      background-color: #434B5C;\n",
              "      box-shadow: 0px 1px 3px 1px rgba(0, 0, 0, 0.15);\n",
              "      filter: drop-shadow(0px 1px 2px rgba(0, 0, 0, 0.3));\n",
              "      fill: #FFFFFF;\n",
              "    }\n",
              "  </style>\n",
              "\n",
              "      <script>\n",
              "        const buttonEl =\n",
              "          document.querySelector('#df-45bf86ee-3764-4e6d-88e8-414719877ad0 button.colab-df-convert');\n",
              "        buttonEl.style.display =\n",
              "          google.colab.kernel.accessAllowed ? 'block' : 'none';\n",
              "\n",
              "        async function convertToInteractive(key) {\n",
              "          const element = document.querySelector('#df-45bf86ee-3764-4e6d-88e8-414719877ad0');\n",
              "          const dataTable =\n",
              "            await google.colab.kernel.invokeFunction('convertToInteractive',\n",
              "                                                     [key], {});\n",
              "          if (!dataTable) return;\n",
              "\n",
              "          const docLinkHtml = 'Like what you see? Visit the ' +\n",
              "            '<a target=\"_blank\" href=https://colab.research.google.com/notebooks/data_table.ipynb>data table notebook</a>'\n",
              "            + ' to learn more about interactive tables.';\n",
              "          element.innerHTML = '';\n",
              "          dataTable['output_type'] = 'display_data';\n",
              "          await google.colab.output.renderOutput(dataTable, element);\n",
              "          const docLink = document.createElement('div');\n",
              "          docLink.innerHTML = docLinkHtml;\n",
              "          element.appendChild(docLink);\n",
              "        }\n",
              "      </script>\n",
              "    </div>\n",
              "  </div>\n",
              "  "
            ]
          },
          "metadata": {},
          "execution_count": 94
        }
      ]
    },
    {
      "cell_type": "code",
      "source": [
        "from sklearn.model_selection import train_test_split   \n",
        "features = ['CRIM', 'ZN', 'INDUS', 'CHAS', 'NOX', 'RM', 'AGE', 'DIS', 'RAD', 'TAX', 'PTRATIO', 'B', 'LSTAT' ]\n",
        " \n",
        "x = df1.loc[:, features]\n",
        "y = df1.loc[:, ['MEDV']]\n",
        "    \n",
        "xtrain, xtest, ytrain, ytest = train_test_split(x, y, test_size =0.2, \n",
        "                                                    random_state = 0) \n",
        "   \n",
        "print(\"xtrain shape : \", xtrain.shape) \n",
        "print(\"xtest shape  : \", xtest.shape) \n",
        "print(\"ytrain shape : \", ytrain.shape) \n",
        "print(\"ytest shape  : \", ytest.shape)"
      ],
      "metadata": {
        "id": "9WQRh45UpGMW"
      },
      "execution_count": null,
      "outputs": []
    },
    {
      "cell_type": "code",
      "source": [
        "sns.set(rc={'figure.figsize':(11.7,8.27)})\n",
        "sns.displot(y, bins=30, kde = True)\n",
        "plt.title('Ver variabilidad del precio medio')\n",
        "plt.show()"
      ],
      "metadata": {
        "id": "3eJnOFTOqmBi"
      },
      "execution_count": null,
      "outputs": []
    },
    {
      "cell_type": "markdown",
      "source": [
        "**VERDE **\n",
        "l\n",
        "\n",
        "\n",
        "ttps://www.kaggle.com/code/deuterium06/boston-housing-linear-regression/notebook"
      ],
      "metadata": {
        "id": "icvSjkt58Oxg"
      }
    },
    {
      "cell_type": "code",
      "source": [
        "correlation_matrix = df1.corr().round(2)\n",
        "# annot = True to print the values inside the square\n",
        "sns.heatmap(data=correlation_matrix, annot=True)"
      ],
      "metadata": {
        "id": "-oCDZansriPw"
      },
      "execution_count": null,
      "outputs": []
    },
    {
      "cell_type": "code",
      "source": [
        "df3= df1.to_numpy()\n",
        "df3=pd.DataFrame(df1)\n",
        "#d= pd.DataFrame(3,'MDEV')\n",
        "c = boston.corr().abs().nlargest(4, 'LSTAT')\n",
        "#df3 = np.array(df1, dtype=np.float32)\n",
        "#c = df1.corr().abs().nlargest(5, 'MEDV')\n",
        " \n",
        "#s = c.unstack()\n",
        "#so = s.sort_values(kind=\"quicksort\")\n",
        "print (c)"
      ],
      "metadata": {
        "id": "BaxmBhI2oObL",
        "outputId": "ba97cfbb-883e-4520-d3bc-063be1acafcb",
        "colab": {
          "base_uri": "https://localhost:8080/"
        }
      },
      "execution_count": 95,
      "outputs": [
        {
          "output_type": "stream",
          "name": "stdout",
          "text": [
            "           CRIM        ZN     INDUS      CHAS       NOX        RM       AGE  \\\n",
            "LSTAT  0.455621  0.412995  0.603800  0.053929  0.590879  0.613808  0.602339   \n",
            "RM     0.219247  0.311991  0.391676  0.091251  0.302188  1.000000  0.240265   \n",
            "INDUS  0.406583  0.533828  1.000000  0.062938  0.763651  0.391676  0.644779   \n",
            "AGE    0.352734  0.569537  0.644779  0.086518  0.731470  0.240265  1.000000   \n",
            "\n",
            "            DIS       RAD       TAX   PTRATIO         B     LSTAT  \n",
            "LSTAT  0.496996  0.488676  0.543993  0.374044  0.366087  1.000000  \n",
            "RM     0.205246  0.209847  0.292048  0.355501  0.128069  0.613808  \n",
            "INDUS  0.708027  0.595129  0.720760  0.383248  0.356977  0.603800  \n",
            "AGE    0.747881  0.456022  0.506456  0.261515  0.273534  0.602339  \n"
          ]
        }
      ]
    },
    {
      "cell_type": "code",
      "source": [
        "#type(df1)\n",
        "#df1.head()\n",
        "#c\n",
        "df3=pd.DataFrame(df1)\n",
        "df3.dtypes"
      ],
      "metadata": {
        "id": "O7OFFhycrJpf"
      },
      "execution_count": null,
      "outputs": []
    },
    {
      "cell_type": "code",
      "source": [
        "columns_sorted = df1.corr().abs().nlargest(14, 'MEDV').index\n",
        "correlation_sorted = np.corrcoef(df1[columns_sorted].values.T)\n",
        "\n",
        "f, ax = plt.subplots(figsize = (9,7.5))\n",
        "hm = sns.heatmap(abs(correlation_sorted), annot=True, square=True, fmt='.2f', annot_kws={'size': 10}, yticklabels=columns_sorted.values, xticklabels=columns_sorted.values, cmap='summer')\n",
        "plt.show()"
      ],
      "metadata": {
        "id": "SoDmbGZW6Vmt"
      },
      "execution_count": null,
      "outputs": []
    },
    {
      "cell_type": "code",
      "source": [
        "df2= pd.DataFrame(df1)\n",
        "sns.boxplot(df2['RAD'], df2['MEDV'])"
      ],
      "metadata": {
        "id": "LmBnAYMB-BOY"
      },
      "execution_count": null,
      "outputs": []
    },
    {
      "cell_type": "code",
      "source": [
        "df1['MEDV'],"
      ],
      "metadata": {
        "id": "-K8H9N827zAy"
      },
      "execution_count": null,
      "outputs": []
    },
    {
      "cell_type": "code",
      "source": [
        "#sns.boxplot(df1['RAD'], df1['MEDV'])\n",
        "#sns.catplot( x= 'RAD', y = 'MEDV', data = df1, kind = \"box\")\n",
        "df1"
      ],
      "metadata": {
        "id": "Mx_XW8-s7UsX"
      },
      "execution_count": null,
      "outputs": []
    },
    {
      "cell_type": "markdown",
      "source": [
        "**Observaciones:**\n",
        "Para ajustar un modelo de regresión lineal, seleccionamos aquellas características que tienen una alta correlación con nuestra variable objetivo MEDV. Al observar la matriz de correlación, podemos ver que RM tiene una fuerte correlación positiva con MEDV (0,7), mientras que LSTAT tiene una alta correlación negativa con MEDV (-0,74).\n",
        "\n",
        "Un punto importante en la selección de características para un modelo de regresión lineal es comprobar la multicolinealidad. Las características RAD, TAX tienen una correlación de 0,91. Estos pares de características están fuertemente correlacionados entre sí. No debemos seleccionar ambas características juntas para entrenar el modelo. Compruebe esto para obtener una explicación. Lo mismo ocurre con las funciones DIS y AGE, que tienen una correlación de -0,75.\n",
        "\n",
        "En base a las observaciones anteriores, utilizaremos RM y LSTAT como nuestras características. Usando un gráfico de dispersión, veamos cómo varían estas características con MEDV."
      ],
      "metadata": {
        "id": "KHbW_jS7r45x"
      }
    },
    {
      "cell_type": "code",
      "source": [
        "plt.figure(figsize=(20, 5))\n",
        "\n",
        "features = ['LSTAT', 'RM']\n",
        "target = df1['MEDV']\n",
        "\n",
        "for i, col in enumerate(features):\n",
        "    plt.subplot(1, len(features) , i+1)\n",
        "    x = df1[col]\n",
        "    y = target\n",
        "    plt.scatter(x, y, marker='o')\n",
        "    plt.title(col)\n",
        "    plt.xlabel(col)\n",
        "    plt.ylabel('MEDV')"
      ],
      "metadata": {
        "id": "7Sk6062Zr-rR"
      },
      "execution_count": null,
      "outputs": []
    },
    {
      "cell_type": "markdown",
      "source": [
        "**Observaciones:**\n",
        "Los precios aumentan a medida que el valor de RM aumenta linealmente. Hay pocos valores atípicos y los datos parecen tener un límite de 50.\n",
        "Los precios tienden a disminuir con un aumento en LSTAT. Aunque no parece estar siguiendo exactamente una línea lineal."
      ],
      "metadata": {
        "id": "ndef_mcDsT_p"
      }
    },
    {
      "cell_type": "code",
      "source": [
        "X = pd.DataFrame(np.c_[df1['LSTAT'], df1['RM']], columns = ['LSTAT','RM'])\n",
        "Y = df1['MEDV']"
      ],
      "metadata": {
        "id": "C5zMIHxssjPf"
      },
      "execution_count": null,
      "outputs": []
    },
    {
      "cell_type": "code",
      "source": [
        "#from sklearn.model_selection import train_test_split\n",
        "\n",
        "X_train, X_test, Y_train, Y_test = train_test_split(X, Y, test_size = 0.2, random_state=5)\n",
        "print(X_train.shape)\n",
        "print(X_test.shape)\n",
        "print(Y_train.shape)\n",
        "print(Y_test.shape)"
      ],
      "metadata": {
        "id": "MNwaFrAas0TY"
      },
      "execution_count": null,
      "outputs": []
    },
    {
      "cell_type": "code",
      "source": [
        "from sklearn.linear_model import LinearRegression\n",
        "from sklearn.metrics import mean_squared_error\n",
        "\n",
        "lin_model = LinearRegression()\n",
        "lin_model.fit(X_train, Y_train)"
      ],
      "metadata": {
        "id": "HZeVywg5s8DQ"
      },
      "execution_count": null,
      "outputs": []
    },
    {
      "cell_type": "code",
      "source": [
        "# model evaluation for training set\n",
        "\n",
        "from sklearn.metrics import r2_score\n",
        "\n",
        "y_train_predict = lin_model.predict(X_train)\n",
        "rmse = round((np.sqrt(mean_squared_error(Y_train, y_train_predict))),2)\n",
        "r2 = round(r2_score(Y_train, y_train_predict),2)\n",
        "\n",
        "print(\"El modelo para el dataset de training da: \")\n",
        "print(\"--------------------------------------\")\n",
        "print('error cuadrático medio (RMSE) es {}'.format(rmse))\n",
        "print('R2 score es {}'.format(r2))\n",
        "print(\"\\n\")\n",
        "\n",
        "# Evaluacion del modelo de set\n",
        "y_test_predict = lin_model.predict(X_test)\n",
        "rmse = round((np.sqrt(mean_squared_error(Y_test, y_test_predict))),2)\n",
        "r2 = round(r2_score(Y_test, y_test_predict),2)\n",
        "\n",
        "print(\"el modelo para el dataset de Test da\")\n",
        "print(\"--------------------------------------\")\n",
        "print('error cuadrático medio (RMSE) es {}'.format(rmse))\n",
        "print('R2 El valor es {}'.format(r2))"
      ],
      "metadata": {
        "id": "qWL6PLC5tAjo"
      },
      "execution_count": null,
      "outputs": []
    },
    {
      "cell_type": "code",
      "source": [
        "import pandas.util.testing as tm\n"
      ],
      "metadata": {
        "id": "aiS5si7ixiXq"
      },
      "execution_count": null,
      "outputs": []
    },
    {
      "cell_type": "code",
      "source": [
        "X = df1[\"RM\"]\n",
        "y = target[\"MEDV\"]\n",
        "\n",
        "import statsmodels.api as sm\n",
        "from statsmodels.regression.rolling import RollingOLS\n",
        "\n",
        "# Note the difference in argument order\n",
        "model = RollingOLS(y, X).fit()\n",
        "predictions = model.predict(X) # make the predictions by the model\n",
        "\n",
        "# Print out the statistics\n",
        "model.summary()"
      ],
      "metadata": {
        "id": "yIyQtBgvyYPg"
      },
      "execution_count": null,
      "outputs": []
    },
    {
      "cell_type": "markdown",
      "source": [
        ""
      ],
      "metadata": {
        "id": "MVqwvsdG0Jqt"
      }
    },
    {
      "cell_type": "code",
      "source": [
        "window = 1000\n",
        "a = np.array([np.nan] * len(df))\n",
        "b = [np.nan] * len(df)  # If betas required.\n",
        "#y_ = df.y.values\n",
        "y_ = target[\"MEDV\"]\n",
        "#x_ = df[['x']].assign(constant=1).values\n",
        "x_ = df1[\"RM\"]\n",
        "for n in range(window, len(df)):\n",
        "    y = y_[(n - window):n]\n",
        "    X = x_[(n - window):n]\n",
        "    # betas = Inverse(X'.X).X'.y\n",
        "    betas = np.linalg.inv(X.T.dot(X)).dot(X.T).dot(y)\n",
        "    y_hat = betas.dot(x_[n, :])\n",
        "    a[n] = y_hat\n",
        "    b[n] = betas.tolist()  # If betas required."
      ],
      "metadata": {
        "id": "KRrg3EhKz77x"
      },
      "execution_count": null,
      "outputs": []
    },
    {
      "cell_type": "markdown",
      "source": [
        "https://nsamrao.github.io/Boston_Housing/"
      ],
      "metadata": {
        "id": "GdJT3bup34M2"
      }
    },
    {
      "cell_type": "code",
      "source": [
        "import statsmodels.api as sm\n",
        "from statsmodels.formula.api import ols"
      ],
      "metadata": {
        "id": "uHuiNDRn1bQy"
      },
      "execution_count": null,
      "outputs": []
    },
    {
      "cell_type": "code",
      "source": [
        "bos1 = df1\n",
        "bos1['CRIM'] = np.log(bos1['CRIM'])"
      ],
      "metadata": {
        "id": "l2fhmC4v3-6w"
      },
      "execution_count": null,
      "outputs": []
    },
    {
      "cell_type": "code",
      "source": [
        "m = ols('PRICE ~ PTRATIO + NOX + RM + LSTAT + DIS ',bos1).fit()\n",
        "print(m.summary())"
      ],
      "metadata": {
        "id": "astiCTsA4HNt"
      },
      "execution_count": null,
      "outputs": []
    },
    {
      "cell_type": "code",
      "source": [
        "Nombre_Columnas = ['CRIM', 'ZN', 'INDUS', 'CHAS', 'NOX', 'RM', 'AGE', 'DIS', 'RAD', 'TAX', 'PTRATIO', 'B', 'LSTAT', 'MEDV']\n"
      ],
      "metadata": {
        "id": "_yXkL5mU4pXm"
      },
      "execution_count": null,
      "outputs": []
    },
    {
      "cell_type": "code",
      "source": [
        "# statsmodels works nicely with pandas dataframes\n",
        "# The thing inside the \"quotes\" is called a formula, a bit on that below\n",
        "\n",
        "X = df1[\"RM\"]\n",
        "y = target[\"MEDV\"]\n",
        "m = ols(y,X).fit()\n",
        "print(m.summary())"
      ],
      "metadata": {
        "id": "JIioNMXU4cYo"
      },
      "execution_count": null,
      "outputs": []
    },
    {
      "cell_type": "code",
      "source": [
        "  import pandas.util.testing as tm\n",
        "  data = pd.DataFrame({\"y\": target[\"MEDV\"], \"x\": df1[\"RM\"]}, index=[5, 3, 1])\n",
        "  results = ols('y ~ x', data).fit()"
      ],
      "metadata": {
        "id": "AAN6Gp945esg"
      },
      "execution_count": null,
      "outputs": []
    },
    {
      "cell_type": "markdown",
      "source": [
        "FOREST"
      ],
      "metadata": {
        "id": "K-qE5U1DAWzp"
      }
    },
    {
      "cell_type": "code",
      "source": [
        "X = pd.DataFrame(np.c_[df1['LSTAT'], df1['RM']], columns = ['LSTAT','RM'])\n",
        "Y = df1['MEDV']\n",
        "\n",
        "X_train, X_test, Y_train, Y_test = train_test_split(X, Y, test_size = 0.2, random_state=5)\n"
      ],
      "metadata": {
        "id": "tXmrOh3jCUgB"
      },
      "execution_count": null,
      "outputs": []
    },
    {
      "cell_type": "markdown",
      "source": [
        "# Random Forest "
      ],
      "metadata": {
        "id": "THzZgDxZLGGU"
      }
    },
    {
      "cell_type": "code",
      "source": [
        "from sklearn.ensemble import RandomForestRegressor\n",
        "\n",
        "feats = ['LSTAT', 'RM']\n",
        "m = RandomForestRegressor(n_jobs = -1, oob_score = True)\n",
        "m.fit(X_train, Y_train)\n",
        "print('m: ', m)\n",
        "feat_imps = m.feature_importances_\n",
        "\n",
        "print(' feat_imps', feat_imps)\n",
        "\n",
        "score = round(m.score(X_train, Y_train),2)\n",
        "print('Score: ', score)\n",
        "\n",
        "ypredict = (m.predict(X_test))\n",
        "Y_test=Y_test.to_numpy()\n",
        "\n",
        "type(ypredict)\n",
        "type(Y_test)\n",
        "mae = np.mean(np.absolute(Y_test - ypredict))\n",
        "#mae= np.absolute (Y_test - ypredict)\n",
        "#mae_percent = np.mean(np.absolute(ytest - ypredict) / ytest)"
      ],
      "metadata": {
        "id": "x6t7BqT9AYAR"
      },
      "execution_count": null,
      "outputs": []
    },
    {
      "cell_type": "markdown",
      "source": [
        " clf = RandomForestRegressor()\n",
        "    clf.fit(xtrain, ytrain)\n",
        "\n",
        "    score = clf.score(xtest, ytest)\n",
        "\n",
        "    feat_imps = clf.feature_importances_\n",
        "\n",
        "    ypredict = clf.predict(xtest)\n",
        "\n",
        "\n",
        "    mae = np.mean(np.absolute(ytest - ypredict))\n",
        "    mae_percent = np.mean(np.absolute(ytest - ypredict) / ytest)\n",
        "    return (\n",
        "      \n",
        "        \"R^2 is \",\n",
        "        score,\n",
        "        \"MAE is \",\n",
        "        mae,\n",
        "        \"MAE percent is \",\n",
        "        mae_percent,\n",
        "        \"Feature Importances are \",\n",
        "        zip(feature_names, feat_imps),"
      ],
      "metadata": {
        "id": "Nhf5jON3ERQv"
      }
    },
    {
      "cell_type": "markdown",
      "source": [
        "**Fitting Linear Regression using statsmodels**\n",
        "\n",
        "\n",
        "https://github.com/shashankvmaiya/Boston-Housing-Price-Prediction/blob/master/Mini_Project_Linear_Regression.ipynb\n"
      ],
      "metadata": {
        "id": "J0ROeQdbC6_N"
      }
    },
    {
      "cell_type": "markdown",
      "source": [
        "**RESIDUOS:**\n",
        "\n",
        "\n",
        "https://colab.research.google.com/github/RPI-DATA/course-intro-ml-app/blob/master/content/notebooks/12-intro-modeling-2/02-regression-boston-housing-python.ipynb"
      ],
      "metadata": {
        "id": "Hl1AHIAVDPbI"
      }
    }
  ]
}